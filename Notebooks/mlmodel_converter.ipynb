{
 "cells": [
  {
   "cell_type": "code",
   "execution_count": 1,
   "metadata": {},
   "outputs": [
    {
     "name": "stdout",
     "output_type": "stream",
     "text": [
      "INFO:tensorflow:Enabling eager execution\n",
      "INFO:tensorflow:Enabling v2 tensorshape\n",
      "INFO:tensorflow:Enabling resource variables\n",
      "INFO:tensorflow:Enabling tensor equality\n",
      "INFO:tensorflow:Enabling control flow v2\n"
     ]
    }
   ],
   "source": [
    "import tensorflow as tf"
   ]
  },
  {
   "cell_type": "code",
   "execution_count": null,
   "metadata": {},
   "outputs": [],
   "source": [
    "\n",
    "\n",
    "tf_converter.convert(\n",
    "    tf_model_path = \"optimized_graph.pb\",\n",
    "    mlmodel_path = \"output/optimized_graph.mlmodel\",\n",
    "    output_feature_names = ['final_result:0'],\n",
    "    input_name_shape_dict={\"Mul:0\":[1,299,299,3]},\n",
    "    image_input_names = 'Mul:0',\n",
    "    class_labels = 'labels.txt'\n",
    ")"
   ]
  }
 ],
 "metadata": {
  "interpreter": {
   "hash": "a5c211bb6517d1707717133dd53f8f960c78eef83580152631ddfa651c45ffb3"
  },
  "kernelspec": {
   "display_name": "Python 3.9.1 64-bit ('3.9.1': pyenv)",
   "name": "python3"
  },
  "language_info": {
   "codemirror_mode": {
    "name": "ipython",
    "version": 3
   },
   "file_extension": ".py",
   "mimetype": "text/x-python",
   "name": "python",
   "nbconvert_exporter": "python",
   "pygments_lexer": "ipython3",
   "version": "3.9.1"
  },
  "orig_nbformat": 2
 },
 "nbformat": 4,
 "nbformat_minor": 2
}